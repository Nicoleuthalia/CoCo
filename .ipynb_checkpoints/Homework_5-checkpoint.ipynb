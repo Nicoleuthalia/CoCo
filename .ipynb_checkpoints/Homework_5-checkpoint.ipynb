{
 "cells": [
  {
   "cell_type": "markdown",
   "metadata": {},
   "source": [
    "# CoCo Homework 5: Pandas"
   ]
  },
  {
   "cell_type": "markdown",
   "metadata": {},
   "source": [
    "### Step 1: Load de file"
   ]
  },
  {
   "cell_type": "code",
   "execution_count": 5,
   "metadata": {},
   "outputs": [
    {
     "name": "stdout",
     "output_type": "stream",
     "text": [
      "/home/jupyter-huck4481@vandals.u-5584a\n"
     ]
    }
   ],
   "source": [
    "cd"
   ]
  },
  {
   "cell_type": "code",
   "execution_count": 6,
   "metadata": {},
   "outputs": [
    {
     "data": {
      "text/html": [
       "<div>\n",
       "<style scoped>\n",
       "    .dataframe tbody tr th:only-of-type {\n",
       "        vertical-align: middle;\n",
       "    }\n",
       "\n",
       "    .dataframe tbody tr th {\n",
       "        vertical-align: top;\n",
       "    }\n",
       "\n",
       "    .dataframe thead th {\n",
       "        text-align: right;\n",
       "    }\n",
       "</style>\n",
       "<table border=\"1\" class=\"dataframe\">\n",
       "  <thead>\n",
       "    <tr style=\"text-align: right;\">\n",
       "      <th></th>\n",
       "      <th>latitude</th>\n",
       "      <th>longitude</th>\n",
       "      <th>distance_km</th>\n",
       "      <th>topography_km</th>\n",
       "      <th>disturbance_mgal</th>\n",
       "    </tr>\n",
       "  </thead>\n",
       "  <tbody>\n",
       "    <tr>\n",
       "      <th>0</th>\n",
       "      <td>13.000000</td>\n",
       "      <td>-165.000000</td>\n",
       "      <td>0.000000</td>\n",
       "      <td>-4.161000</td>\n",
       "      <td>23.008098</td>\n",
       "    </tr>\n",
       "    <tr>\n",
       "      <th>1</th>\n",
       "      <td>13.082915</td>\n",
       "      <td>-164.929648</td>\n",
       "      <td>12.070042</td>\n",
       "      <td>-4.747907</td>\n",
       "      <td>21.180807</td>\n",
       "    </tr>\n",
       "    <tr>\n",
       "      <th>2</th>\n",
       "      <td>13.165829</td>\n",
       "      <td>-164.859296</td>\n",
       "      <td>24.140085</td>\n",
       "      <td>-5.452608</td>\n",
       "      <td>18.099661</td>\n",
       "    </tr>\n",
       "    <tr>\n",
       "      <th>3</th>\n",
       "      <td>13.248744</td>\n",
       "      <td>-164.788945</td>\n",
       "      <td>36.210127</td>\n",
       "      <td>-5.581402</td>\n",
       "      <td>14.372280</td>\n",
       "    </tr>\n",
       "    <tr>\n",
       "      <th>4</th>\n",
       "      <td>13.331658</td>\n",
       "      <td>-164.718593</td>\n",
       "      <td>48.280170</td>\n",
       "      <td>-5.438978</td>\n",
       "      <td>10.606283</td>\n",
       "    </tr>\n",
       "    <tr>\n",
       "      <th>...</th>\n",
       "      <td>...</td>\n",
       "      <td>...</td>\n",
       "      <td>...</td>\n",
       "      <td>...</td>\n",
       "      <td>...</td>\n",
       "    </tr>\n",
       "    <tr>\n",
       "      <th>207</th>\n",
       "      <td>29.168342</td>\n",
       "      <td>-151.281407</td>\n",
       "      <td>2353.658266</td>\n",
       "      <td>-5.539440</td>\n",
       "      <td>-0.359882</td>\n",
       "    </tr>\n",
       "    <tr>\n",
       "      <th>208</th>\n",
       "      <td>29.251256</td>\n",
       "      <td>-151.211055</td>\n",
       "      <td>2365.728309</td>\n",
       "      <td>-5.481472</td>\n",
       "      <td>-0.993508</td>\n",
       "    </tr>\n",
       "    <tr>\n",
       "      <th>209</th>\n",
       "      <td>29.334171</td>\n",
       "      <td>-151.140704</td>\n",
       "      <td>2377.798351</td>\n",
       "      <td>-5.503901</td>\n",
       "      <td>-0.858798</td>\n",
       "    </tr>\n",
       "    <tr>\n",
       "      <th>210</th>\n",
       "      <td>29.417085</td>\n",
       "      <td>-151.070352</td>\n",
       "      <td>2389.868394</td>\n",
       "      <td>-5.467104</td>\n",
       "      <td>-1.044911</td>\n",
       "    </tr>\n",
       "    <tr>\n",
       "      <th>211</th>\n",
       "      <td>29.500000</td>\n",
       "      <td>-151.000000</td>\n",
       "      <td>2401.938436</td>\n",
       "      <td>-5.483000</td>\n",
       "      <td>-1.852387</td>\n",
       "    </tr>\n",
       "  </tbody>\n",
       "</table>\n",
       "<p>212 rows × 5 columns</p>\n",
       "</div>"
      ],
      "text/plain": [
       "      latitude   longitude  distance_km  topography_km  disturbance_mgal\n",
       "0    13.000000 -165.000000     0.000000      -4.161000         23.008098\n",
       "1    13.082915 -164.929648    12.070042      -4.747907         21.180807\n",
       "2    13.165829 -164.859296    24.140085      -5.452608         18.099661\n",
       "3    13.248744 -164.788945    36.210127      -5.581402         14.372280\n",
       "4    13.331658 -164.718593    48.280170      -5.438978         10.606283\n",
       "..         ...         ...          ...            ...               ...\n",
       "207  29.168342 -151.281407  2353.658266      -5.539440         -0.359882\n",
       "208  29.251256 -151.211055  2365.728309      -5.481472         -0.993508\n",
       "209  29.334171 -151.140704  2377.798351      -5.503901         -0.858798\n",
       "210  29.417085 -151.070352  2389.868394      -5.467104         -1.044911\n",
       "211  29.500000 -151.000000  2401.938436      -5.483000         -1.852387\n",
       "\n",
       "[212 rows x 5 columns]"
      ]
     },
     "execution_count": 6,
     "metadata": {},
     "output_type": "execute_result"
    }
   ],
   "source": [
    "import pandas as pd\n",
    "from pathlib import Path\n",
    "import numpy as np\n",
    "import matplotlib.pyplot as plt\n",
    "\n",
    "# Path to the file \n",
    "data_folder = Path(\"CoCoLessons/data\")\n",
    "# Open the file \n",
    "data = pd.read_csv(data_folder / \"hawaii-profile.csv\")\n",
    "data"
   ]
  },
  {
   "cell_type": "markdown",
   "metadata": {},
   "source": [
    "### Step 2: Clean the DataFrame, so check if it has: "
   ]
  },
  {
   "cell_type": "code",
   "execution_count": 7,
   "metadata": {},
   "outputs": [
    {
     "data": {
      "text/html": [
       "<div>\n",
       "<style scoped>\n",
       "    .dataframe tbody tr th:only-of-type {\n",
       "        vertical-align: middle;\n",
       "    }\n",
       "\n",
       "    .dataframe tbody tr th {\n",
       "        vertical-align: top;\n",
       "    }\n",
       "\n",
       "    .dataframe thead th {\n",
       "        text-align: right;\n",
       "    }\n",
       "</style>\n",
       "<table border=\"1\" class=\"dataframe\">\n",
       "  <thead>\n",
       "    <tr style=\"text-align: right;\">\n",
       "      <th></th>\n",
       "      <th>latitude</th>\n",
       "      <th>longitude</th>\n",
       "      <th>distance_km</th>\n",
       "      <th>topography_km</th>\n",
       "      <th>disturbance_mgal</th>\n",
       "    </tr>\n",
       "  </thead>\n",
       "  <tbody>\n",
       "    <tr>\n",
       "      <th>56</th>\n",
       "      <td>17.062814</td>\n",
       "      <td>-161.552764</td>\n",
       "      <td>591.432077</td>\n",
       "      <td>-5.542519</td>\n",
       "      <td>4.088689</td>\n",
       "    </tr>\n",
       "    <tr>\n",
       "      <th>131</th>\n",
       "      <td>23.198492</td>\n",
       "      <td>-156.346734</td>\n",
       "      <td>1484.615214</td>\n",
       "      <td>-4.237042</td>\n",
       "      <td>26.279725</td>\n",
       "    </tr>\n",
       "    <tr>\n",
       "      <th>132</th>\n",
       "      <td>23.198492</td>\n",
       "      <td>-156.346734</td>\n",
       "      <td>1484.615214</td>\n",
       "      <td>-4.237042</td>\n",
       "      <td>26.279725</td>\n",
       "    </tr>\n",
       "    <tr>\n",
       "      <th>133</th>\n",
       "      <td>23.198492</td>\n",
       "      <td>-156.346734</td>\n",
       "      <td>1484.615214</td>\n",
       "      <td>-4.237042</td>\n",
       "      <td>26.279725</td>\n",
       "    </tr>\n",
       "    <tr>\n",
       "      <th>134</th>\n",
       "      <td>23.198492</td>\n",
       "      <td>-156.346734</td>\n",
       "      <td>1484.615214</td>\n",
       "      <td>-4.237042</td>\n",
       "      <td>26.279725</td>\n",
       "    </tr>\n",
       "  </tbody>\n",
       "</table>\n",
       "</div>"
      ],
      "text/plain": [
       "      latitude   longitude  distance_km  topography_km  disturbance_mgal\n",
       "56   17.062814 -161.552764   591.432077      -5.542519          4.088689\n",
       "131  23.198492 -156.346734  1484.615214      -4.237042         26.279725\n",
       "132  23.198492 -156.346734  1484.615214      -4.237042         26.279725\n",
       "133  23.198492 -156.346734  1484.615214      -4.237042         26.279725\n",
       "134  23.198492 -156.346734  1484.615214      -4.237042         26.279725"
      ]
     },
     "execution_count": 7,
     "metadata": {},
     "output_type": "execute_result"
    }
   ],
   "source": [
    "#Check for Nan values and remove them\n",
    "data.isnull().values.any()\n",
    "data = data.dropna()\n",
    "\n",
    "data.shape\n",
    "\n",
    "#Find and remove the duplicate rows\n",
    "data[data.duplicated()]"
   ]
  },
  {
   "cell_type": "code",
   "execution_count": 8,
   "metadata": {},
   "outputs": [
    {
     "data": {
      "text/plain": [
       "(201, 5)"
      ]
     },
     "execution_count": 8,
     "metadata": {},
     "output_type": "execute_result"
    }
   ],
   "source": [
    "# Check for NaN values and remove them\n",
    "data.isnull().values.any()\n",
    "data = data.drop_duplicates()\n",
    "\n",
    "data.shape"
   ]
  },
  {
   "cell_type": "code",
   "execution_count": 9,
   "metadata": {},
   "outputs": [
    {
     "data": {
      "text/plain": [
       "Text(0.5, 0, 'Distance (km)')"
      ]
     },
     "execution_count": 9,
     "metadata": {},
     "output_type": "execute_result"
    },
    {
     "data": {
      "image/png": "[encoded data removed]",
      "text/plain": [
       "<Figure size 504x504 with 2 Axes>"
      ]
     },
     "metadata": {
      "needs_background": "light"
     },
     "output_type": "display_data"
    }
   ],
   "source": [
    "#Plot the data in subplots\n",
    "\n",
    "fig, axes = plt.subplots(nrows=2, sharex=True, figsize=(7, 7))\n",
    "axes[0].plot(data['distance_km'], data['topography_km'])\n",
    "axes[1].plot(data['distance_km'], data['disturbance_mgal'])\n",
    "axes[0].set_ylabel('Bathymetry (km)')\n",
    "axes[1].set_ylabel('Disturbance (mgal)')\n",
    "axes[1].set_xlabel('Distance (km)')"
   ]
  },
  {
   "cell_type": "code",
   "execution_count": 10,
   "metadata": {},
   "outputs": [
    {
     "data": {
      "text/html": [
       "<div>\n",
       "<style scoped>\n",
       "    .dataframe tbody tr th:only-of-type {\n",
       "        vertical-align: middle;\n",
       "    }\n",
       "\n",
       "    .dataframe tbody tr th {\n",
       "        vertical-align: top;\n",
       "    }\n",
       "\n",
       "    .dataframe thead th {\n",
       "        text-align: right;\n",
       "    }\n",
       "</style>\n",
       "<table border=\"1\" class=\"dataframe\">\n",
       "  <thead>\n",
       "    <tr style=\"text-align: right;\">\n",
       "      <th></th>\n",
       "      <th>latitude</th>\n",
       "      <th>longitude</th>\n",
       "      <th>distance_km</th>\n",
       "      <th>topography_km</th>\n",
       "      <th>disturbance_mgal</th>\n",
       "    </tr>\n",
       "  </thead>\n",
       "  <tbody>\n",
       "    <tr>\n",
       "      <th>188</th>\n",
       "      <td>27.596965</td>\n",
       "      <td>-152.61819</td>\n",
       "      <td>2124.327461</td>\n",
       "      <td>-5.44891</td>\n",
       "      <td>-250.043523</td>\n",
       "    </tr>\n",
       "  </tbody>\n",
       "</table>\n",
       "</div>"
      ],
      "text/plain": [
       "      latitude  longitude  distance_km  topography_km  disturbance_mgal\n",
       "188  27.596965 -152.61819  2124.327461       -5.44891       -250.043523"
      ]
     },
     "execution_count": 10,
     "metadata": {},
     "output_type": "execute_result"
    }
   ],
   "source": [
    "# Find that single outlier\n",
    "data.loc[data['disturbance_mgal']<-200] "
   ]
  },
  {
   "cell_type": "code",
   "execution_count": 16,
   "metadata": {},
   "outputs": [],
   "source": [
    "# Delete that one value\n",
    "data = data.drop(index=[188])"
   ]
  },
  {
   "cell_type": "code",
   "execution_count": 43,
   "metadata": {},
   "outputs": [
    {
     "data": {
      "text/plain": [
       "Text(0.5, 0, 'Distance (km)')"
      ]
     },
     "execution_count": 43,
     "metadata": {},
     "output_type": "execute_result"
    },
    {
     "data": {
      "image/png": "[encoded data removed]",
      "text/plain": [
       "<Figure size 504x504 with 2 Axes>"
      ]
     },
     "metadata": {
      "needs_background": "light"
     },
     "output_type": "display_data"
    }
   ],
   "source": [
    "#Plot the final figure\n",
    "\n",
    "fig, axes = plt.subplots(nrows=2, sharex=True, figsize=(7, 7))\n",
    "axes[0].plot(data['distance_km'], data['topography_km'], 'r')\n",
    "axes[1].plot(data['distance_km'], data['disturbance_mgal'], 'b')\n",
    "axes[0].title.set_text('Oahu Island Bathymetry')\n",
    "axes[1].title.set_text('Oahu Island Gravity Disturbance')\n",
    "axes[0].grid()\n",
    "axes[1].grid()\n",
    "axes[0].set_ylabel('Bathymetry (km)')\n",
    "axes[1].set_ylabel('Disturbance (mgal)')\n",
    "axes[1].set_xlabel('Distance (km)')"
   ]
  }
 ],
 "metadata": {
  "kernelspec": {
   "display_name": "Python 3",
   "language": "python",
   "name": "python3"
  },
  "language_info": {
   "codemirror_mode": {
    "name": "ipython",
    "version": 3
   },
   "file_extension": ".py",
   "mimetype": "text/x-python",
   "name": "python",
   "nbconvert_exporter": "python",
   "pygments_lexer": "ipython3",
   "version": "3.6.10"
  }
 },
 "nbformat": 4,
 "nbformat_minor": 2
}
