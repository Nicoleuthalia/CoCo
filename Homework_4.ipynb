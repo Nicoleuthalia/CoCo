{
 "cells": [
  {
   "cell_type": "markdown",
   "metadata": {},
   "source": [
    "## Homework 4"
   ]
  },
  {
   "cell_type": "markdown",
   "metadata": {},
   "source": [
    "### 1° Task"
   ]
  },
  {
   "cell_type": "markdown",
   "metadata": {},
   "source": [
    "\n",
    "Convert the following list of temperatures in Fahrenheit to Celsius with a for loop. temperatures_f = [30.2, 41, 115.7, 77, 130.46, 59, 86, 63.5, 23]\n",
    "Help: It may be useful to create an empty list where we store the temperature data in Celsius and add values to it with the append method.\n"
   ]
  },
  {
   "cell_type": "code",
   "execution_count": 30,
   "metadata": {},
   "outputs": [
    {
     "name": "stdout",
     "output_type": "stream",
     "text": [
      "[-1.   5.  46.5 25.  54.7 15.  30.  17.5 -5. ]\n"
     ]
    }
   ],
   "source": [
    "import numpy as np\n",
    "\n",
    "temperatures_f = [30.2, 41, 115.7, 77, 130.46, 59, 86, 63.5, 23]\n",
    "temperatures_c = []\n",
    "\n",
    "for temp in temperatures_f:\n",
    "    C = (temp-32)*(5/9)\n",
    "    temperatures_c.append(C)\n",
    "    \n",
    "print(np.round(temperatures_c,3))   \n",
    "    "
   ]
  },
  {
   "cell_type": "markdown",
   "metadata": {},
   "source": [
    "Use for loops and conditionals to generate a temperature alert for: low temperatures (less or equal than 0°C) high temperatures (greater or equal than 35°C) normal temperatures (between 0°C and 35°C) Generate two functions:"
   ]
  },
  {
   "cell_type": "code",
   "execution_count": 33,
   "metadata": {},
   "outputs": [
    {
     "name": "stdout",
     "output_type": "stream",
     "text": [
      "-1.0 Celsius is a Low Temperature\n",
      "5.0 Celsius is a Normal Temperature\n",
      "46.5 Celsius is a High Temperature\n",
      "25.0 Celsius is a Normal Temperature\n",
      "54.7 Celsius is a High Temperature\n",
      "15.0 Celsius is a Normal Temperature\n",
      "30.0 Celsius is a Normal Temperature\n",
      "17.5 Celsius is a Normal Temperature\n",
      "-5.0 Celsius is a Low Temperature\n"
     ]
    }
   ],
   "source": [
    "for temp in temperatures_c:\n",
    "    if temp <= 0:\n",
    "        print(np.round(temp,3),'Celsius is a Low Temperature')\n",
    "    elif temp >= 35:\n",
    "        print(np.round(temp,3),'Celsius is a High Temperature')\n",
    "    else:\n",
    "        print(np.round(temp,3), 'Celsius is a Normal Temperature')"
   ]
  },
  {
   "cell_type": "markdown",
   "metadata": {},
   "source": [
    "Generate two functions:\n",
    "\n",
    "1) a function that takes a single value of temperature in Fahrenheit and returns the same value in Celsius.\n",
    "2) a function that takes a single temperature value and prints its corresponding temperature alert."
   ]
  },
  {
   "cell_type": "code",
   "execution_count": 38,
   "metadata": {},
   "outputs": [],
   "source": [
    "def funcion1(F): \n",
    "    C = (F - 32)*(5/9)\n",
    "    print('La temperatura', F, 'F es', C, 'Celsius')\n",
    "    return C\n",
    "\n",
    "def funcion2(F):\n",
    "    C = (F - 32)*(5/9)\n",
    "    if C <= 0:\n",
    "        print(np.round(C,3),'Celsius is a Low Temperature')\n",
    "    elif C >= 35:\n",
    "        print(np.round(C,3),'Celsius is a High Temperature')\n",
    "    else:\n",
    "        print(np.round(C,3), 'Celsius is a Normal Temperature')\n",
    "    return C"
   ]
  },
  {
   "cell_type": "code",
   "execution_count": 40,
   "metadata": {},
   "outputs": [
    {
     "name": "stdout",
     "output_type": "stream",
     "text": [
      "La temperatura 30.2 F es -1.0000000000000004 Celsius\n",
      "-1.0 Celsius is a Low Temperature\n",
      "La temperatura 41 F es 5.0 Celsius\n",
      "5.0 Celsius is a Normal Temperature\n",
      "La temperatura 115.7 F es 46.50000000000001 Celsius\n",
      "46.5 Celsius is a High Temperature\n",
      "La temperatura 77 F es 25.0 Celsius\n",
      "25.0 Celsius is a Normal Temperature\n",
      "La temperatura 130.46 F es 54.70000000000001 Celsius\n",
      "54.7 Celsius is a High Temperature\n",
      "La temperatura 59 F es 15.0 Celsius\n",
      "15.0 Celsius is a Normal Temperature\n",
      "La temperatura 86 F es 30.0 Celsius\n",
      "30.0 Celsius is a Normal Temperature\n",
      "La temperatura 63.5 F es 17.5 Celsius\n",
      "17.5 Celsius is a Normal Temperature\n",
      "La temperatura 23 F es -5.0 Celsius\n",
      "-5.0 Celsius is a Low Temperature\n"
     ]
    }
   ],
   "source": [
    "for temp in temperatures_f:\n",
    "    funcion1(temp)\n",
    "    funcion2(temp)"
   ]
  },
  {
   "cell_type": "markdown",
   "metadata": {},
   "source": [
    "## 2° Task"
   ]
  },
  {
   "cell_type": "code",
   "execution_count": 42,
   "metadata": {},
   "outputs": [],
   "source": [
    "def aeropuerto(wind, visibilidad):\n",
    "    \"\"\"\n",
    "    Function Description blabla \n",
    "    \"\"\"\n",
    "    if (wind > 12) or (visibilidad < 100):\n",
    "        return 'PISTA CERRADA. No se permite despegar'\n",
    "    if (wind > 8) and (wind < 12):\n",
    "        return 'ADVERTENCIA: vientos fuertes'\n",
    "    if (visibilidad > 100) and (visibilidad < 500):\n",
    "        return 'ADVERTENCIA: baja visibilidad'\n",
    "    else: \n",
    "        return 'Buen Viaje!'"
   ]
  },
  {
   "cell_type": "code",
   "execution_count": null,
   "metadata": {},
   "outputs": [],
   "source": []
  }
 ],
 "metadata": {
  "kernelspec": {
   "display_name": "Python 3",
   "language": "python",
   "name": "python3"
  },
  "language_info": {
   "codemirror_mode": {
    "name": "ipython",
    "version": 3
   },
   "file_extension": ".py",
   "mimetype": "text/x-python",
   "name": "python",
   "nbconvert_exporter": "python",
   "pygments_lexer": "ipython3",
   "version": "3.6.10"
  }
 },
 "nbformat": 4,
 "nbformat_minor": 2
}
