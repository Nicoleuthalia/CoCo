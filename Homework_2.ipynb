{
 "cells": [
  {
   "cell_type": "markdown",
   "metadata": {},
   "source": [
    "## Homework Week 2: CoCo "
   ]
  },
  {
   "cell_type": "markdown",
   "metadata": {},
   "source": [
    "### Task 1"
   ]
  },
  {
   "cell_type": "code",
   "execution_count": 27,
   "metadata": {},
   "outputs": [
    {
     "name": "stdout",
     "output_type": "stream",
     "text": [
      "30.3 degrees Farenheit are equal to -0.944 degrees Celcius\n"
     ]
    }
   ],
   "source": [
    "#Define our first temperature\n",
    "F = 30.3 #Farenheit\n",
    "\n",
    "#Conversion\n",
    "C = (5/9)*(F - 32) #Temp in Celcius\n",
    "\n",
    "print(F, 'degrees Farenheit are equal to', round(C,3), 'degrees Celcius')"
   ]
  },
  {
   "cell_type": "markdown",
   "metadata": {},
   "source": [
    "### Task 2"
   ]
  },
  {
   "cell_type": "code",
   "execution_count": 28,
   "metadata": {},
   "outputs": [
    {
     "name": "stdout",
     "output_type": "stream",
     "text": [
      "[-0.944 -6.611  8.056  1.167  5.722]\n"
     ]
    }
   ],
   "source": [
    "#Import the numpy library\n",
    "import numpy as np\n",
    "\n",
    "#Define our array of temperatures\n",
    "temperatures_F = np.array([30.3, 20.1, 46.5, 34.1, 42.3])\n",
    "\n",
    "#Conversion from F to C\n",
    "temperatures_C = (5/9)*(temperatures_F - 32)\n",
    "\n",
    "print(np.round(temperatures_C,3))"
   ]
  },
  {
   "cell_type": "markdown",
   "metadata": {},
   "source": [
    "### Task 3"
   ]
  },
  {
   "cell_type": "code",
   "execution_count": 29,
   "metadata": {},
   "outputs": [],
   "source": [
    "import numpy as np\n",
    "\n",
    "#Defining our array\n",
    "x = np.array([1, 2, 3, 4, 5, 6, 7, 8, 9, 10, 11, 12, 13, 14, 15, 16]) #Need to reshape as a 4x4 matrix"
   ]
  },
  {
   "cell_type": "code",
   "execution_count": 30,
   "metadata": {},
   "outputs": [
    {
     "data": {
      "text/plain": [
       "(16,)"
      ]
     },
     "execution_count": 30,
     "metadata": {},
     "output_type": "execute_result"
    }
   ],
   "source": [
    "#Show current shape of our array\n",
    "np.shape(x)"
   ]
  },
  {
   "cell_type": "code",
   "execution_count": 31,
   "metadata": {},
   "outputs": [
    {
     "data": {
      "text/plain": [
       "array([[ 1,  2,  3,  4],\n",
       "       [ 5,  6,  7,  8],\n",
       "       [ 9, 10, 11, 12],\n",
       "       [13, 14, 15, 16]])"
      ]
     },
     "execution_count": 31,
     "metadata": {},
     "output_type": "execute_result"
    }
   ],
   "source": [
    "#Function used to reshape the array\n",
    "x = np.reshape(x,(4,4))\n",
    "x"
   ]
  },
  {
   "cell_type": "code",
   "execution_count": 32,
   "metadata": {},
   "outputs": [
    {
     "data": {
      "text/plain": [
       "(4, 4)"
      ]
     },
     "execution_count": 32,
     "metadata": {},
     "output_type": "execute_result"
    }
   ],
   "source": [
    "#Show the new shape of our array\n",
    "np.shape(x)"
   ]
  },
  {
   "cell_type": "markdown",
   "metadata": {},
   "source": [
    "### Task 4"
   ]
  },
  {
   "cell_type": "code",
   "execution_count": 33,
   "metadata": {},
   "outputs": [
    {
     "name": "stdout",
     "output_type": "stream",
     "text": [
      "Our angles in degrees are [ 0 30 45 60 90]\n",
      "Our angles in radians are [0.    0.524 0.785 1.047 1.571]\n"
     ]
    }
   ],
   "source": [
    "#Defining angles in degrees\n",
    "deg = np.array([0,30,45,60,90])\n",
    "print('Our angles in degrees are', deg)\n",
    "\n",
    "#Convert degrees to radians\n",
    "rad = np.radians(deg)\n",
    "print('Our angles in radians are', np.round(rad,3))"
   ]
  },
  {
   "cell_type": "code",
   "execution_count": 34,
   "metadata": {},
   "outputs": [
    {
     "name": "stdout",
     "output_type": "stream",
     "text": [
      "The sine and cosine of 0 is 0.0 and 1.0 respectively\n",
      "The sine and cosine of 30 is 0.5 and 0.866 respectively\n",
      "The sine and cosine of 45 is 0.707 and 0.707 respectively\n",
      "The sine and cosine of 60 is 0.866 and 0.5 respectively\n",
      "The sine and cosine of 90 is 1.0 and 0.0 respectively\n",
      "This loop is now over!\n"
     ]
    }
   ],
   "source": [
    "#Calculate cosine and sine of these angles \n",
    "sin = np.sin(rad) \n",
    "cos = np.cos(rad) #These functions will read the angles in radians only\n",
    "\n",
    "#Printing the results for each angle\n",
    "i=0\n",
    "while i < len(deg) :\n",
    " print('The sine and cosine of', deg[i], 'is', np.round(sin[i],3), 'and', np.round(cos[i],3), 'respectively')\n",
    " i = i+1\n",
    "print('This loop is now over!')  \n",
    "\n",
    "      "
   ]
  },
  {
   "cell_type": "markdown",
   "metadata": {},
   "source": [
    "### Task 5"
   ]
  },
  {
   "cell_type": "code",
   "execution_count": 2,
   "metadata": {},
   "outputs": [
    {
     "name": "stdin",
     "output_type": "stream",
     "text": [
      "Enter what number we want y' to be calculated for:  2\n"
     ]
    },
    {
     "name": "stdout",
     "output_type": "stream",
     "text": [
      "The derivative of 2 is 4\n"
     ]
    }
   ],
   "source": [
    "#Finite difference approximation for discrete elements:\n",
    "import numpy as np\n",
    "\n",
    "#Defining our function y(x)\n",
    "def y(a):\n",
    "    y = a**2\n",
    "    return y\n",
    "\n",
    "#Entering what number we want to calculate y'=x^2 for\n",
    "x = input(\"Enter what number we want y' to be calculated for: \")\n",
    "x = int(x)\n",
    "\n",
    "#Defining out spacing between values (h)\n",
    "h = 0.00001\n",
    "\n",
    "#Calculating the derivative as a finite difference approximation: \n",
    "derivative = (y(x+h)-y(x))/((x+h)-x)\n",
    "print('The derivative of', x, 'is', round(derivative,))\n"
   ]
  },
  {
   "cell_type": "markdown",
   "metadata": {},
   "source": [
    "Another way of solving this exercise: "
   ]
  },
  {
   "cell_type": "code",
   "execution_count": 19,
   "metadata": {},
   "outputs": [
    {
     "name": "stdin",
     "output_type": "stream",
     "text": [
      "Enter what number we want y' to be calculated for:  3\n"
     ]
    },
    {
     "name": "stdout",
     "output_type": "stream",
     "text": [
      "The derivative of 3 is 6.0\n"
     ]
    }
   ],
   "source": [
    "#Finite difference approximation for discrete elements 2: \n",
    "import numpy as np\n",
    "\n",
    "#Defining our function y(x)\n",
    "def y(a):\n",
    "    y = a**2 #For this example I just chose a simple quadratic function\n",
    "    return y\n",
    "\n",
    "#Creating a list of all the values within this function (we assume up until 100)\n",
    "num = np.linspace(0,100,1001)\n",
    "\n",
    "#Entering what number we want to calculate y'=x^2 for\n",
    "x = input(\"Enter what number we want y' to be calculated for: \")\n",
    "x = int(x)\n",
    "\n",
    "#Finding this number in the array and selecting X(i+1)\n",
    "i = 0\n",
    "while i<10001:\n",
    "    if num[i]==x: #if the ith number in my array is the one entered by user\n",
    "        xii = num[i+1] #save the next number in the array as x(i+1) \n",
    "        xi = num[i]\n",
    "        i = 10002 #set i higher than threshold to not come back into loop\n",
    "    else:\n",
    "        i=i+1\n",
    "        \n",
    "#Calculating the derivative as a finite difference approximation: \n",
    "derivative = (y(xii)-y(xi))/((xii)-xi)\n",
    "print('The derivative of', x, 'is', round(derivative,))"
   ]
  },
  {
   "cell_type": "code",
   "execution_count": 20,
   "metadata": {},
   "outputs": [
    {
     "data": {
      "text/plain": [
       "array([  0. ,   0.1,   0.2, ...,  99.8,  99.9, 100. ])"
      ]
     },
     "execution_count": 20,
     "metadata": {},
     "output_type": "execute_result"
    }
   ],
   "source": [
    "num"
   ]
  },
  {
   "cell_type": "code",
   "execution_count": 40,
   "metadata": {},
   "outputs": [
    {
     "name": "stdout",
     "output_type": "stream",
     "text": [
      "La derivada de 2.0 es 4.0\n"
     ]
    }
   ],
   "source": [
    "#Finite difference approximation for discrete elements 2: \n",
    "import numpy as np\n",
    "\n",
    "#Defining our function y(x)\n",
    "def y(a):\n",
    "    y = a**2 #For this example I just chose a simple quadratic function\n",
    "    return y\n",
    "\n",
    "#Creating a list of all the values within this function (we assume up until 100)\n",
    "num = np.linspace(0,50,10001)\n",
    "        \n",
    "#Calculating the derivative as a finite difference approximation: \n",
    "derivative = np.diff(y(num))/ np.diff(num)\n",
    "\n",
    "print('La derivada de', num[400], 'es', round(derivative[400],2)) \n",
    "#Funciona con cualquier numero que quiera llamar de mi arreglo"
   ]
  },
  {
   "cell_type": "code",
   "execution_count": null,
   "metadata": {},
   "outputs": [],
   "source": []
  },
  {
   "cell_type": "code",
   "execution_count": null,
   "metadata": {},
   "outputs": [],
   "source": []
  },
  {
   "cell_type": "code",
   "execution_count": null,
   "metadata": {},
   "outputs": [],
   "source": []
  }
 ],
 "metadata": {
  "kernelspec": {
   "display_name": "Python 3",
   "language": "python",
   "name": "python3"
  },
  "language_info": {
   "codemirror_mode": {
    "name": "ipython",
    "version": 3
   },
   "file_extension": ".py",
   "mimetype": "text/x-python",
   "name": "python",
   "nbconvert_exporter": "python",
   "pygments_lexer": "ipython3",
   "version": "3.6.10"
  }
 },
 "nbformat": 4,
 "nbformat_minor": 2
}
